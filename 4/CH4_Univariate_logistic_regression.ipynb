{
 "cells": [
  {
   "cell_type": "code",
   "execution_count": 7,
   "metadata": {
    "collapsed": false,
    "deletable": true,
    "editable": true,
    "scrolled": true
   },
   "outputs": [
    {
     "name": "stdout",
     "output_type": "stream",
     "text": [
      "              age        chd\n",
      "count  100.000000  100.00000\n",
      "mean    44.380000    0.43000\n",
      "std     11.721327    0.49757\n",
      "min     20.000000    0.00000\n",
      "25%     34.750000    0.00000\n",
      "50%     44.000000    0.00000\n",
      "75%     55.000000    1.00000\n",
      "max     69.000000    1.00000\n",
      "count    100.000000\n",
      "mean       3.786261\n",
      "std        1.000000\n",
      "min        1.706291\n",
      "25%        2.964681\n",
      "50%        3.753841\n",
      "75%        4.692301\n",
      "max        5.886705\n",
      "Name: age, dtype: float64\n"
     ]
    },
    {
     "data": {
      "image/png": "[encoded data removed]",
      "text/plain": [
       "<matplotlib.figure.Figure at 0xa6ec160>"
      ]
     },
     "metadata": {},
     "output_type": "display_data"
    },
    {
     "data": {
      "image/png": "[encoded data removed]",
      "text/plain": [
       "<matplotlib.figure.Figure at 0xa9c6e80>"
      ]
     },
     "metadata": {},
     "output_type": "display_data"
    },
    {
     "data": {
      "image/png": "[encoded data removed]",
      "text/plain": [
       "<matplotlib.figure.Figure at 0xae5e828>"
      ]
     },
     "metadata": {},
     "output_type": "display_data"
    }
   ],
   "source": [
    "import pandas as pd\n",
    "import numpy as np\n",
    "get_ipython().magic('matplotlib inline')\n",
    "import matplotlib.pyplot as plt \n",
    "import tensorflow as tf\n",
    "\n",
    "df = pd.read_csv(\"data/CHD.csv\", header=0)\n",
    "print (df.describe())\n",
    "plt.figure() # Create a new figure\n",
    "plt.axis ([0,70,-0.2,1.2])\n",
    "plt.title('Original data')\n",
    "plt.scatter(df['age'],df['chd']) #Plot a scatter draw of the random datapoints\n",
    "\n",
    "plt.figure() # Create a new figure\n",
    "plt.axis ([-30,30,-0.2,1.2])\n",
    "plt.title('Zero mean')\n",
    "plt.scatter(df['age']-44.8,df['chd']) #Plot a scatter draw of the random datapoints\n",
    "\n",
    "plt.figure() # Create a new figure\n",
    "plt.axis ([-5,5,-0.2,1.2])\n",
    "plt.title('Scaled by std dev')\n",
    "plt.scatter((df['age']-44.8)/11.7,df['chd']) #Plot a scatter draw of the random datapoints\n",
    "#plt.plot (trX, .2 + 2 * trX) # Draw one line with the line function\n",
    "\n",
    "print ((df['age']/11.721327).describe())"
   ]
  },
  {
   "cell_type": "code",
   "execution_count": 8,
   "metadata": {
    "collapsed": false,
    "deletable": true,
    "editable": true
   },
   "outputs": [
    {
     "name": "stdout",
     "output_type": "stream",
     "text": [
      "[[0 1 0 0 0]\n",
      " [0 0 0 1 0]\n",
      " [0 0 1 0 0]\n",
      " [0 0 0 0 1]]\n"
     ]
    }
   ],
   "source": [
    "# Parameters\n",
    "\n",
    "learning_rate = 0.2\n",
    "training_epochs = 5\n",
    "batch_size = 100\n",
    "display_step = 1\n",
    "sess = tf.Session()\n",
    "b=np.zeros((100,2))\n",
    "#print pd.get_dummies(df['admit']).values[1]\n",
    "print (sess.run(tf.one_hot(indices = [1, 3, 2, 4], depth=5, on_value = 1, off_value = 0, axis = 1 , name = \"a\")))\n",
    "#print a.eval(session=sess)"
   ]
  },
  {
   "cell_type": "code",
   "execution_count": 9,
   "metadata": {
    "collapsed": false,
    "deletable": true,
    "editable": true
   },
   "outputs": [],
   "source": [
    "# tf Graph Input\n",
    "\n",
    "x = tf.placeholder(\"float\", [None, 1]) \n",
    "y = tf.placeholder(\"float\", [None, 2]) \n",
    "# Create model\n",
    "# Set model weights\n",
    "W = tf.Variable(tf.zeros([1, 2]))\n",
    "b = tf.Variable(tf.zeros([2]))"
   ]
  },
  {
   "cell_type": "code",
   "execution_count": 10,
   "metadata": {
    "collapsed": false,
    "deletable": true,
    "editable": true
   },
   "outputs": [],
   "source": [
    "# Construct model\n",
    "activation = tf.nn.softmax(tf.matmul(x, W) + b) \n",
    "# Minimize error using cross entropy\n",
    "cost = tf.reduce_mean(-tf.reduce_sum(y*tf.log(activation), axis=1)) # Cross entropy\n",
    "optimizer = tf.train.GradientDescentOptimizer(learning_rate).minimize(cost) # Gradient Descent"
   ]
  },
  {
   "cell_type": "code",
   "execution_count": 11,
   "metadata": {
    "collapsed": false,
    "deletable": true,
    "editable": true
   },
   "outputs": [],
   "source": [
    "# Initializing the variables\n",
    "init = tf.global_variables_initializer()"
   ]
  },
  {
   "cell_type": "code",
   "execution_count": 12,
   "metadata": {
    "collapsed": false,
    "deletable": true,
    "editable": true,
    "scrolled": true
   },
   "outputs": [
    {
     "name": "stdout",
     "output_type": "stream",
     "text": [
      "Epoch: 00001 cost= 0.63873076\n",
      "[ 0.04824295 -0.04824295]\n",
      "[[-0.17459483  0.17459483]]\n",
      "Epoch: 00002 cost= 0.58948964\n",
      "[ 0.08091066 -0.08091066]\n",
      "[[-0.29231569  0.29231566]]\n",
      "Epoch: 00003 cost= 0.56595357\n",
      "[ 0.10427245 -0.10427245]\n",
      "[[-0.37499282  0.37499279]]\n",
      "Epoch: 00004 cost= 0.55375648\n",
      "[ 0.12176144 -0.12176143]\n",
      "[[-0.43521613  0.4352161 ]]\n",
      "Epoch: 00005 cost= 0.54701936\n",
      "[ 0.13527818 -0.13527818]\n",
      "[[-0.48031801  0.48031798]]\n"
     ]
    },
    {
     "data": {
      "image/png": "[encoded data removed]",
      "text/plain": [
       "<matplotlib.figure.Figure at 0xa3e3240>"
      ]
     },
     "metadata": {},
     "output_type": "display_data"
    }
   ],
   "source": [
    "# Launch the graph\n",
    "\n",
    "with tf.Session() as sess:\n",
    "    tf.train.write_graph(sess.graph, './graphs','graph.pbtxt')\n",
    "    sess.run(init)\n",
    "    writer = tf.summary.FileWriter('./graphs', sess.graph)\n",
    "    #Initialize the graph structure\n",
    "    \n",
    "    graphnumber=321\n",
    "    \n",
    "    #Generate a new graph\n",
    "    plt.figure(1)\n",
    "    \n",
    "    #Iterate through all the epochs\n",
    "    for epoch in range(training_epochs):\n",
    "        avg_cost = 0.\n",
    "        total_batch = int(400/batch_size)\n",
    "        # Loop over all batches\n",
    "\n",
    "        for i in range(total_batch):\n",
    "            # Transform the array into a one hot format\n",
    "            \n",
    "            temp=tf.one_hot(indices = df['chd'].values, depth=2, on_value = 1, off_value = 0, axis = -1 , name = \"a\")      \n",
    "            batch_xs, batch_ys = (np.transpose([df['age']])-44.38)/11.721327, temp\n",
    "            \n",
    "            # Fit training using batch data\n",
    "            sess.run(optimizer, feed_dict={x: batch_xs.astype(float), y: batch_ys.eval()})\n",
    "            \n",
    "            # Compute average loss, suming the corrent cost divided by the batch total number\n",
    "            avg_cost += sess.run(cost, feed_dict={x: batch_xs.astype(float), y: batch_ys.eval()})/total_batch\n",
    "        # Display logs per epoch step\n",
    "\n",
    "        if epoch % display_step == 0:\n",
    "            print (\"Epoch:\", '%05d' % (epoch+1), \"cost=\", \"{:.8f}\".format(avg_cost))\n",
    "            \n",
    "            #Generate a new graph, and add it to the complete graph\n",
    "            \n",
    "            trX = np.linspace(-30, 30, 100) \n",
    "            print (b.eval())\n",
    "            print (W.eval())\n",
    "            Wdos=2*W.eval()[0][0]/11.721327\n",
    "            bdos=2*b.eval()[0]\n",
    "            \n",
    "            # Generate the probabiliy function\n",
    "            trY = np.exp(-(Wdos*trX)+bdos)/(1+np.exp(-(Wdos*trX)+bdos) )\n",
    "            \n",
    "            # Draw the samples and the probability function, whithout the normalization\n",
    "            plt.subplot(graphnumber)\n",
    "            graphnumber=graphnumber+1\n",
    "            \n",
    "            #Plot a scatter draw of the random datapoints\n",
    "            plt.scatter((df['age']),df['chd']) \n",
    "            plt.plot(trX+44.38,trY) #Plot a scatter draw of the random datapoints\n",
    "            plt.grid(True)\n",
    "            \n",
    "        #Plot the final graph\n",
    "        plt.savefig(\"test.svg\")  "
   ]
  },
  {
   "cell_type": "code",
   "execution_count": null,
   "metadata": {
    "collapsed": true,
    "deletable": true,
    "editable": true
   },
   "outputs": [],
   "source": []
  }
 ],
 "metadata": {
  "kernelspec": {
   "display_name": "Python 3",
   "language": "python",
   "name": "python3"
  },
  "language_info": {
   "codemirror_mode": {
    "name": "ipython",
    "version": 3
   },
   "file_extension": ".py",
   "mimetype": "text/x-python",
   "name": "python",
   "nbconvert_exporter": "python",
   "pygments_lexer": "ipython3",
   "version": "3.5.2"
  }
 },
 "nbformat": 4,
 "nbformat_minor": 0
}
