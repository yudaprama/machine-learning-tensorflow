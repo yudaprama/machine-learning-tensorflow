{
 "cells": [
  {
   "cell_type": "code",
   "execution_count": 1,
   "metadata": {
    "collapsed": false,
    "deletable": true,
    "editable": true
   },
   "outputs": [],
   "source": [
    "import tensorflow as tf\n",
    "\n",
    "#Generate the filename queue, and read the gif files contents\n",
    "filename_queue = tf.train.string_input_producer(tf.train.match_filenames_once(\"data/test.gif\"))\n",
    "reader = tf.WholeFileReader()\n",
    "key, value = reader.read(filename_queue)\n",
    "image=tf.image.decode_gif(value)\n",
    "\n",
    "#Define the  coordinator\n",
    "coord = tf.train.Coordinator()\n",
    "\n",
    "def normalize_and_encode (img_tensor):\n",
    "    image_dimensions = tf.shape(img_tensor.eval()[0]).eval()\n",
    "    return tf.image.encode_jpeg(tf.reshape(tf.cast(img_tensor, tf.uint8), image_dimensions))\n",
    "\n",
    "with tf.Session() as sess:\n",
    "    maxfile=open (\"maxpool.jpeg\", \"wb+\")\n",
    "    avgfile=open (\"avgpool.jpeg\", \"wb+\")\n",
    "    tf.global_variables_initializer().run()\n",
    "    threads = tf.train.start_queue_runners(coord=coord)\n",
    "    \n",
    "    image_tensor = tf.image.rgb_to_grayscale(sess.run([image])[0])\n",
    "    \n",
    "    maxed_tensor=tf.nn.avg_pool(tf.cast(image_tensor, tf.float32),[1,2,2,1],[1,2,2,1],\"SAME\")\n",
    "    averaged_tensor=tf.nn.avg_pool(tf.cast(image_tensor, tf.float32),[1,2,2,1],[1,2,2,1],\"SAME\")\n",
    "    \n",
    "    maxfile.write(normalize_and_encode(maxed_tensor).eval())\n",
    "    avgfile.write(normalize_and_encode(averaged_tensor).eval())\n",
    "    coord.request_stop()\n",
    "    maxfile.close()\n",
    "    avgfile.close()\n",
    "coord.join(threads)"
   ]
  },
  {
   "cell_type": "code",
   "execution_count": null,
   "metadata": {
    "collapsed": true,
    "deletable": true,
    "editable": true
   },
   "outputs": [],
   "source": []
  }
 ],
 "metadata": {
  "kernelspec": {
   "display_name": "Python 3",
   "language": "python",
   "name": "python3"
  },
  "language_info": {
   "codemirror_mode": {
    "name": "ipython",
    "version": 3
   },
   "file_extension": ".py",
   "mimetype": "text/x-python",
   "name": "python",
   "nbconvert_exporter": "python",
   "pygments_lexer": "ipython3",
   "version": "3.5.2"
  }
 },
 "nbformat": 4,
 "nbformat_minor": 0
}
